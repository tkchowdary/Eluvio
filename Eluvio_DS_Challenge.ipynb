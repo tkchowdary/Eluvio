{
 "cells": [
  {
   "cell_type": "markdown",
   "metadata": {},
   "source": [
    "### Eluvio DS Challenege\n",
    "\n",
    "__Problem statement__: Forecast, the number of upvotes against certain news based on historic statistics.\n",
    "\n",
    "-Based on some original features and some derived features, determine that the news will obtain how many upvotes so that author and the publisher can know when and whose posts should be published.\n",
    "\n",
    "-Topic modeling, e.g., Modelled as regression problem by taking the obtained upvotes as the label during training.\n",
    "\n",
    "-PCR regressor, Linear regression, Decision tree regressor, and KNN are trained on the dataset with 75% data for training and 25% for the validation.\n",
    "\n",
    "__What I did in the notebook__:\n",
    "-  __1) Data Cleaning :__\n",
    "Removed the unnecessary features based on the categorical and numerical analysis as well as through data exploration. \n",
    "- __2) Feature  scaling and transformation:__\n",
    "Feature values are scaled to maintain a standard, and new features are extracted from the given features.  \n",
    " \n",
    "- __3) Visualization:__ \n",
    "Through various line graphs, histograms, and heatmap, data exploration is performed.\n",
    "- __4) PCA:__\n",
    "Applied principal component analysis and grid search to optimize the models  \n",
    "\n",
    "- __5) Forecasting:__\n",
    "Regression models: PCR regressor, linear regression, lasso regression as the baseline models.\n",
    "__Evaluation Metrics__: Regression: MSE, R2 score, and RMSE the training and test set.\n",
    "\n",
    "\n"
   ]
  },
  {
   "cell_type": "markdown",
   "metadata": {},
   "source": [
    "### Load the required packages"
   ]
  },
  {
   "cell_type": "code",
   "execution_count": 41,
   "metadata": {},
   "outputs": [
    {
     "name": "stderr",
     "output_type": "stream",
     "text": [
      "[nltk_data] Downloading package stopwords to\n",
      "[nltk_data]     /Users/tharun/nltk_data...\n",
      "[nltk_data]   Package stopwords is already up-to-date!\n",
      "[nltk_data] Downloading package punkt to /Users/tharun/nltk_data...\n",
      "[nltk_data]   Package punkt is already up-to-date!\n"
     ]
    }
   ],
   "source": [
    "import pandas as pd\n",
    "import numpy as np\n",
    "import matplotlib.pyplot as plt\n",
    "import string\n",
    "import re\n",
    "from sklearn.model_selection import train_test_split, GridSearchCV\n",
    "\n",
    "from sklearn.ensemble import RandomForestClassifier\n",
    "from contextlib import contextmanager\n",
    "\n",
    "from sklearn.preprocessing import scale\n",
    "\n",
    "from sklearn.decomposition import PCA\n",
    "from sklearn.linear_model import LinearRegression\n",
    "from sklearn.ensemble import RandomForestRegressor\n",
    "from sklearn.neighbors import KNeighborsRegressor\n",
    "\n",
    "import nltk\n",
    "nltk.download('stopwords')\n",
    "import seaborn as sns\n",
    "from numpy import mean\n",
    "from sklearn.metrics import mean_squared_error,r2_score\n",
    "from sklearn import model_selection\n",
    "import time\n",
    "from geotext import GeoText\n",
    "import re\n",
    "from collections import Counter\n",
    "from sklearn.model_selection import cross_val_score\n",
    "from sklearn.model_selection import RepeatedStratifiedKFold\n",
    "from datetime import datetime, timedelta, date\n",
    "\n",
    "nltk.download('punkt')\n",
    "\n",
    "import warnings\n",
    "warnings.filterwarnings('ignore')\n"
   ]
  },
  {
   "cell_type": "markdown",
   "metadata": {},
   "source": [
    "### Read the dataset"
   ]
  },
  {
   "cell_type": "code",
   "execution_count": 49,
   "metadata": {},
   "outputs": [],
   "source": [
    "df = pd.read_csv('Eluvio_DS_Challenge.csv')"
   ]
  },
  {
   "cell_type": "code",
   "execution_count": 50,
   "metadata": {},
   "outputs": [
    {
     "data": {
      "text/html": [
       "<div>\n",
       "<style scoped>\n",
       "    .dataframe tbody tr th:only-of-type {\n",
       "        vertical-align: middle;\n",
       "    }\n",
       "\n",
       "    .dataframe tbody tr th {\n",
       "        vertical-align: top;\n",
       "    }\n",
       "\n",
       "    .dataframe thead th {\n",
       "        text-align: right;\n",
       "    }\n",
       "</style>\n",
       "<table border=\"1\" class=\"dataframe\">\n",
       "  <thead>\n",
       "    <tr style=\"text-align: right;\">\n",
       "      <th></th>\n",
       "      <th>time_created</th>\n",
       "      <th>date_created</th>\n",
       "      <th>up_votes</th>\n",
       "      <th>down_votes</th>\n",
       "      <th>title</th>\n",
       "      <th>over_18</th>\n",
       "      <th>author</th>\n",
       "      <th>category</th>\n",
       "    </tr>\n",
       "  </thead>\n",
       "  <tbody>\n",
       "    <tr>\n",
       "      <th>0</th>\n",
       "      <td>1201232046</td>\n",
       "      <td>2008-01-25</td>\n",
       "      <td>3</td>\n",
       "      <td>0</td>\n",
       "      <td>Scores killed in Pakistan clashes</td>\n",
       "      <td>False</td>\n",
       "      <td>polar</td>\n",
       "      <td>worldnews</td>\n",
       "    </tr>\n",
       "    <tr>\n",
       "      <th>1</th>\n",
       "      <td>1201232075</td>\n",
       "      <td>2008-01-25</td>\n",
       "      <td>2</td>\n",
       "      <td>0</td>\n",
       "      <td>Japan resumes refuelling mission</td>\n",
       "      <td>False</td>\n",
       "      <td>polar</td>\n",
       "      <td>worldnews</td>\n",
       "    </tr>\n",
       "    <tr>\n",
       "      <th>2</th>\n",
       "      <td>1201232523</td>\n",
       "      <td>2008-01-25</td>\n",
       "      <td>3</td>\n",
       "      <td>0</td>\n",
       "      <td>US presses Egypt on Gaza border</td>\n",
       "      <td>False</td>\n",
       "      <td>polar</td>\n",
       "      <td>worldnews</td>\n",
       "    </tr>\n",
       "    <tr>\n",
       "      <th>3</th>\n",
       "      <td>1201233290</td>\n",
       "      <td>2008-01-25</td>\n",
       "      <td>1</td>\n",
       "      <td>0</td>\n",
       "      <td>Jump-start economy: Give health care to all</td>\n",
       "      <td>False</td>\n",
       "      <td>fadi420</td>\n",
       "      <td>worldnews</td>\n",
       "    </tr>\n",
       "    <tr>\n",
       "      <th>4</th>\n",
       "      <td>1201274720</td>\n",
       "      <td>2008-01-25</td>\n",
       "      <td>4</td>\n",
       "      <td>0</td>\n",
       "      <td>Council of Europe bashes EU&amp;UN terror blacklist</td>\n",
       "      <td>False</td>\n",
       "      <td>mhermans</td>\n",
       "      <td>worldnews</td>\n",
       "    </tr>\n",
       "  </tbody>\n",
       "</table>\n",
       "</div>"
      ],
      "text/plain": [
       "   time_created date_created  up_votes  down_votes  \\\n",
       "0    1201232046   2008-01-25         3           0   \n",
       "1    1201232075   2008-01-25         2           0   \n",
       "2    1201232523   2008-01-25         3           0   \n",
       "3    1201233290   2008-01-25         1           0   \n",
       "4    1201274720   2008-01-25         4           0   \n",
       "\n",
       "                                             title  over_18    author  \\\n",
       "0                Scores killed in Pakistan clashes    False     polar   \n",
       "1                 Japan resumes refuelling mission    False     polar   \n",
       "2                  US presses Egypt on Gaza border    False     polar   \n",
       "3     Jump-start economy: Give health care to all     False   fadi420   \n",
       "4  Council of Europe bashes EU&UN terror blacklist    False  mhermans   \n",
       "\n",
       "    category  \n",
       "0  worldnews  \n",
       "1  worldnews  \n",
       "2  worldnews  \n",
       "3  worldnews  \n",
       "4  worldnews  "
      ]
     },
     "execution_count": 50,
     "metadata": {},
     "output_type": "execute_result"
    }
   ],
   "source": [
    "df.head()# returns first 5 rows of data."
   ]
  },
  {
   "cell_type": "code",
   "execution_count": 51,
   "metadata": {},
   "outputs": [
    {
     "name": "stdout",
     "output_type": "stream",
     "text": [
      "<class 'pandas.core.frame.DataFrame'>\n",
      "RangeIndex: 509236 entries, 0 to 509235\n",
      "Data columns (total 8 columns):\n",
      " #   Column        Non-Null Count   Dtype \n",
      "---  ------        --------------   ----- \n",
      " 0   time_created  509236 non-null  int64 \n",
      " 1   date_created  509236 non-null  object\n",
      " 2   up_votes      509236 non-null  int64 \n",
      " 3   down_votes    509236 non-null  int64 \n",
      " 4   title         509236 non-null  object\n",
      " 5   over_18       509236 non-null  bool  \n",
      " 6   author        509236 non-null  object\n",
      " 7   category      509236 non-null  object\n",
      "dtypes: bool(1), int64(3), object(4)\n",
      "memory usage: 27.7+ MB\n"
     ]
    }
   ],
   "source": [
    "df.info()"
   ]
  },
  {
   "cell_type": "markdown",
   "metadata": {},
   "source": [
    "### Count the unique values in each feature of the whole dataset"
   ]
  },
  {
   "cell_type": "code",
   "execution_count": 52,
   "metadata": {},
   "outputs": [
    {
     "data": {
      "text/plain": [
       "time_created    508329\n",
       "date_created      3223\n",
       "up_votes          5782\n",
       "down_votes           1\n",
       "title           500720\n",
       "over_18              2\n",
       "author           85838\n",
       "category             1\n",
       "dtype: int64"
      ]
     },
     "execution_count": 52,
     "metadata": {},
     "output_type": "execute_result"
    }
   ],
   "source": [
    "df.nunique()"
   ]
  },
  {
   "cell_type": "code",
   "execution_count": 53,
   "metadata": {},
   "outputs": [
    {
     "data": {
      "text/plain": [
       "509236"
      ]
     },
     "execution_count": 53,
     "metadata": {},
     "output_type": "execute_result"
    }
   ],
   "source": [
    "len(df)"
   ]
  },
  {
   "cell_type": "markdown",
   "metadata": {},
   "source": [
    "### graph to see the distribution of the feature : Over_18"
   ]
  },
  {
   "cell_type": "code",
   "execution_count": 54,
   "metadata": {},
   "outputs": [
    {
     "name": "stdout",
     "output_type": "stream",
     "text": [
      "False    508916\n",
      "True        320\n",
      "Name: over_18, dtype: int64\n"
     ]
    },
    {
     "data": {
      "image/png": "[encoded data removed]",
      "text/plain": [
       "<Figure size 360x360 with 1 Axes>"
      ]
     },
     "metadata": {},
     "output_type": "display_data"
    }
   ],
   "source": [
    "sns.set_theme(style=\"ticks\", color_codes=True)\n",
    "sns.catplot(x=\"over_18\", kind=\"count\", palette=\"ch:.25\", data=df.sort_values(\"over_18\"))\n",
    "item_counts = df[\"over_18\"].value_counts()\n",
    "print(item_counts)"
   ]
  },
  {
   "cell_type": "markdown",
   "metadata": {},
   "source": [
    "### Density graph to see the distribution of up votes"
   ]
  },
  {
   "cell_type": "markdown",
   "metadata": {},
   "source": [
    "####  97 is chosen after testing with various values."
   ]
  },
  {
   "cell_type": "code",
   "execution_count": 55,
   "metadata": {},
   "outputs": [
    {
     "data": {
      "text/plain": [
       "<AxesSubplot:xlabel='up_votes', ylabel='Density'>"
      ]
     },
     "execution_count": 55,
     "metadata": {},
     "output_type": "execute_result"
    },
    {
     "data": {
      "image/png": "[encoded data removed]",
      "text/plain": [
       "<Figure size 432x288 with 1 Axes>"
      ]
     },
     "metadata": {},
     "output_type": "display_data"
    }
   ],
   "source": [
    "sns.distplot(df[df['up_votes']<=97]['up_votes'])"
   ]
  },
  {
   "cell_type": "code",
   "execution_count": 56,
   "metadata": {},
   "outputs": [
    {
     "data": {
      "text/plain": [
       "<AxesSubplot:xlabel='up_votes', ylabel='Density'>"
      ]
     },
     "execution_count": 56,
     "metadata": {},
     "output_type": "execute_result"
    },
    {
     "data": {
      "image/png": "[encoded data removed]",
      "text/plain": [
       "<Figure size 432x288 with 1 Axes>"
      ]
     },
     "metadata": {},
     "output_type": "display_data"
    }
   ],
   "source": [
    "sns.distplot(df[df['up_votes']>97]['up_votes'])"
   ]
  },
  {
   "cell_type": "code",
   "execution_count": 57,
   "metadata": {},
   "outputs": [],
   "source": [
    "from nltk.stem.snowball import SnowballStemmer\n",
    "stemmer = SnowballStemmer(\"english\")"
   ]
  },
  {
   "cell_type": "markdown",
   "metadata": {},
   "source": [
    "# Feature transformation and extraction "
   ]
  },
  {
   "cell_type": "code",
   "execution_count": 58,
   "metadata": {},
   "outputs": [],
   "source": [
    "@contextmanager\n",
    "def timer(title):\n",
    "    t0 = time.time()\n",
    "    yield\n",
    "    print(\"{} - done in {:.0f}s\".format(title, time.time() - t0))\n",
    "    \n",
    "def countries(x):# get the invidual cities\n",
    "    count = GeoText(x).countries\n",
    "    city = GeoText(x).cities\n",
    "    w = ''\n",
    "    if not count and not city:\n",
    "        return np.nan\n",
    "    else:\n",
    "        for country in count:\n",
    "            w = w+' '+country\n",
    "        for c in city:\n",
    "            w = w+' '+c\n",
    "        return w\n",
    "\n",
    "def places(x):\n",
    "    count = GeoText(x).countries\n",
    "    city = GeoText(x).cities\n",
    "    w = 0\n",
    "    if not count and not city:\n",
    "        return 0\n",
    "    else:\n",
    "        w=len(count)+len(city)\n",
    "        return w \n",
    "\n",
    "def df_feature_engineer(df):\n",
    "    df['date_created'] = pd.to_datetime(df['date_created'])\n",
    "    df['day_of_week']=df['date_created'].dt.day_name()\n",
    "    df['day_of_week_num']=df['date_created'].dt.dayofweek\n",
    "    df['year'] = df['date_created'].dt.year\n",
    "    df['month'] = df['date_created'].dt.month\n",
    "    df['day'] = df['date_created'].dt.day\n",
    "    df['weekend'] = np.where(df['date_created'].dt.dayofweek>4, 1, 0)\n",
    "    df['years_to_now'] = (datetime.today() - df['date_created']).dt.days/365\n",
    "    # Unix time starts at 00:00:00 Thursday, 1 January 1970\n",
    "    df['time_created'] = pd.to_datetime(df['time_created'], unit='s')\n",
    "    df['day_time']=df['time_created'].dt.hour+df['time_created'].dt.minute/60+df['time_created'].dt.second/3600\n",
    "    df['author_total_posts'] = df['author'].groupby(df['author']).transform('count')\n",
    "    df = df.drop(columns=['date_created','down_votes','category'])\n",
    "    df['title_length'] = df['title'].str.split().apply(len)\n",
    "    df['over_18'] = df['over_18'].map({False:0,True:1})\n",
    "    df['places'] = df['title'].apply(lambda x: places(x))\n",
    "    return df"
   ]
  },
  {
   "cell_type": "code",
   "execution_count": 59,
   "metadata": {},
   "outputs": [
    {
     "name": "stdout",
     "output_type": "stream",
     "text": [
      "Transformed features - done in 12s\n"
     ]
    }
   ],
   "source": [
    "with timer(\"Transformed features\"):\n",
    "    df = df_feature_engineer(df)"
   ]
  },
  {
   "cell_type": "code",
   "execution_count": 60,
   "metadata": {},
   "outputs": [
    {
     "data": {
      "text/html": [
       "<div>\n",
       "<style scoped>\n",
       "    .dataframe tbody tr th:only-of-type {\n",
       "        vertical-align: middle;\n",
       "    }\n",
       "\n",
       "    .dataframe tbody tr th {\n",
       "        vertical-align: top;\n",
       "    }\n",
       "\n",
       "    .dataframe thead th {\n",
       "        text-align: right;\n",
       "    }\n",
       "</style>\n",
       "<table border=\"1\" class=\"dataframe\">\n",
       "  <thead>\n",
       "    <tr style=\"text-align: right;\">\n",
       "      <th></th>\n",
       "      <th>time_created</th>\n",
       "      <th>up_votes</th>\n",
       "      <th>title</th>\n",
       "      <th>over_18</th>\n",
       "      <th>author</th>\n",
       "      <th>day_of_week</th>\n",
       "      <th>day_of_week_num</th>\n",
       "      <th>year</th>\n",
       "      <th>month</th>\n",
       "      <th>day</th>\n",
       "      <th>weekend</th>\n",
       "      <th>years_to_now</th>\n",
       "      <th>day_time</th>\n",
       "      <th>author_total_posts</th>\n",
       "      <th>title_length</th>\n",
       "      <th>places</th>\n",
       "    </tr>\n",
       "  </thead>\n",
       "  <tbody>\n",
       "    <tr>\n",
       "      <th>0</th>\n",
       "      <td>2008-01-25 03:34:06</td>\n",
       "      <td>3</td>\n",
       "      <td>Scores killed in Pakistan clashes</td>\n",
       "      <td>0</td>\n",
       "      <td>polar</td>\n",
       "      <td>Friday</td>\n",
       "      <td>4</td>\n",
       "      <td>2008</td>\n",
       "      <td>1</td>\n",
       "      <td>25</td>\n",
       "      <td>0</td>\n",
       "      <td>13.241096</td>\n",
       "      <td>3.568333</td>\n",
       "      <td>50</td>\n",
       "      <td>5</td>\n",
       "      <td>1</td>\n",
       "    </tr>\n",
       "    <tr>\n",
       "      <th>1</th>\n",
       "      <td>2008-01-25 03:34:35</td>\n",
       "      <td>2</td>\n",
       "      <td>Japan resumes refuelling mission</td>\n",
       "      <td>0</td>\n",
       "      <td>polar</td>\n",
       "      <td>Friday</td>\n",
       "      <td>4</td>\n",
       "      <td>2008</td>\n",
       "      <td>1</td>\n",
       "      <td>25</td>\n",
       "      <td>0</td>\n",
       "      <td>13.241096</td>\n",
       "      <td>3.576389</td>\n",
       "      <td>50</td>\n",
       "      <td>4</td>\n",
       "      <td>1</td>\n",
       "    </tr>\n",
       "    <tr>\n",
       "      <th>2</th>\n",
       "      <td>2008-01-25 03:42:03</td>\n",
       "      <td>3</td>\n",
       "      <td>US presses Egypt on Gaza border</td>\n",
       "      <td>0</td>\n",
       "      <td>polar</td>\n",
       "      <td>Friday</td>\n",
       "      <td>4</td>\n",
       "      <td>2008</td>\n",
       "      <td>1</td>\n",
       "      <td>25</td>\n",
       "      <td>0</td>\n",
       "      <td>13.241096</td>\n",
       "      <td>3.700833</td>\n",
       "      <td>50</td>\n",
       "      <td>6</td>\n",
       "      <td>2</td>\n",
       "    </tr>\n",
       "    <tr>\n",
       "      <th>3</th>\n",
       "      <td>2008-01-25 03:54:50</td>\n",
       "      <td>1</td>\n",
       "      <td>Jump-start economy: Give health care to all</td>\n",
       "      <td>0</td>\n",
       "      <td>fadi420</td>\n",
       "      <td>Friday</td>\n",
       "      <td>4</td>\n",
       "      <td>2008</td>\n",
       "      <td>1</td>\n",
       "      <td>25</td>\n",
       "      <td>0</td>\n",
       "      <td>13.241096</td>\n",
       "      <td>3.913889</td>\n",
       "      <td>2</td>\n",
       "      <td>7</td>\n",
       "      <td>0</td>\n",
       "    </tr>\n",
       "    <tr>\n",
       "      <th>4</th>\n",
       "      <td>2008-01-25 15:25:20</td>\n",
       "      <td>4</td>\n",
       "      <td>Council of Europe bashes EU&amp;UN terror blacklist</td>\n",
       "      <td>0</td>\n",
       "      <td>mhermans</td>\n",
       "      <td>Friday</td>\n",
       "      <td>4</td>\n",
       "      <td>2008</td>\n",
       "      <td>1</td>\n",
       "      <td>25</td>\n",
       "      <td>0</td>\n",
       "      <td>13.241096</td>\n",
       "      <td>15.422222</td>\n",
       "      <td>1</td>\n",
       "      <td>7</td>\n",
       "      <td>0</td>\n",
       "    </tr>\n",
       "  </tbody>\n",
       "</table>\n",
       "</div>"
      ],
      "text/plain": [
       "         time_created  up_votes  \\\n",
       "0 2008-01-25 03:34:06         3   \n",
       "1 2008-01-25 03:34:35         2   \n",
       "2 2008-01-25 03:42:03         3   \n",
       "3 2008-01-25 03:54:50         1   \n",
       "4 2008-01-25 15:25:20         4   \n",
       "\n",
       "                                             title  over_18    author  \\\n",
       "0                Scores killed in Pakistan clashes        0     polar   \n",
       "1                 Japan resumes refuelling mission        0     polar   \n",
       "2                  US presses Egypt on Gaza border        0     polar   \n",
       "3     Jump-start economy: Give health care to all         0   fadi420   \n",
       "4  Council of Europe bashes EU&UN terror blacklist        0  mhermans   \n",
       "\n",
       "  day_of_week  day_of_week_num  year  month  day  weekend  years_to_now  \\\n",
       "0      Friday                4  2008      1   25        0     13.241096   \n",
       "1      Friday                4  2008      1   25        0     13.241096   \n",
       "2      Friday                4  2008      1   25        0     13.241096   \n",
       "3      Friday                4  2008      1   25        0     13.241096   \n",
       "4      Friday                4  2008      1   25        0     13.241096   \n",
       "\n",
       "    day_time  author_total_posts  title_length  places  \n",
       "0   3.568333                  50             5       1  \n",
       "1   3.576389                  50             4       1  \n",
       "2   3.700833                  50             6       2  \n",
       "3   3.913889                   2             7       0  \n",
       "4  15.422222                   1             7       0  "
      ]
     },
     "execution_count": 60,
     "metadata": {},
     "output_type": "execute_result"
    }
   ],
   "source": [
    "df.head()"
   ]
  },
  {
   "cell_type": "markdown",
   "metadata": {},
   "source": [
    "### Drop the useless features"
   ]
  },
  {
   "cell_type": "code",
   "execution_count": 61,
   "metadata": {},
   "outputs": [],
   "source": [
    "df = df.drop(\"time_created\", axis = 1) # drop the time feature as it is not giving any information\n",
    "df = df.drop(\"year\", axis = 1) # drop the year feature becaue it is not directly related\n",
    "df = df.drop(\"years_to_now\", axis = 1)\n",
    "df = df.drop(\"title\", axis=1)\n",
    "df = df.drop(\"author\", axis=1)\n"
   ]
  },
  {
   "cell_type": "code",
   "execution_count": 62,
   "metadata": {},
   "outputs": [
    {
     "data": {
      "text/html": [
       "<div>\n",
       "<style scoped>\n",
       "    .dataframe tbody tr th:only-of-type {\n",
       "        vertical-align: middle;\n",
       "    }\n",
       "\n",
       "    .dataframe tbody tr th {\n",
       "        vertical-align: top;\n",
       "    }\n",
       "\n",
       "    .dataframe thead th {\n",
       "        text-align: right;\n",
       "    }\n",
       "</style>\n",
       "<table border=\"1\" class=\"dataframe\">\n",
       "  <thead>\n",
       "    <tr style=\"text-align: right;\">\n",
       "      <th></th>\n",
       "      <th>up_votes</th>\n",
       "      <th>over_18</th>\n",
       "      <th>day_of_week</th>\n",
       "      <th>day_of_week_num</th>\n",
       "      <th>month</th>\n",
       "      <th>day</th>\n",
       "      <th>weekend</th>\n",
       "      <th>day_time</th>\n",
       "      <th>author_total_posts</th>\n",
       "      <th>title_length</th>\n",
       "      <th>places</th>\n",
       "    </tr>\n",
       "  </thead>\n",
       "  <tbody>\n",
       "    <tr>\n",
       "      <th>0</th>\n",
       "      <td>3</td>\n",
       "      <td>0</td>\n",
       "      <td>Friday</td>\n",
       "      <td>4</td>\n",
       "      <td>1</td>\n",
       "      <td>25</td>\n",
       "      <td>0</td>\n",
       "      <td>3.568333</td>\n",
       "      <td>50</td>\n",
       "      <td>5</td>\n",
       "      <td>1</td>\n",
       "    </tr>\n",
       "    <tr>\n",
       "      <th>1</th>\n",
       "      <td>2</td>\n",
       "      <td>0</td>\n",
       "      <td>Friday</td>\n",
       "      <td>4</td>\n",
       "      <td>1</td>\n",
       "      <td>25</td>\n",
       "      <td>0</td>\n",
       "      <td>3.576389</td>\n",
       "      <td>50</td>\n",
       "      <td>4</td>\n",
       "      <td>1</td>\n",
       "    </tr>\n",
       "    <tr>\n",
       "      <th>2</th>\n",
       "      <td>3</td>\n",
       "      <td>0</td>\n",
       "      <td>Friday</td>\n",
       "      <td>4</td>\n",
       "      <td>1</td>\n",
       "      <td>25</td>\n",
       "      <td>0</td>\n",
       "      <td>3.700833</td>\n",
       "      <td>50</td>\n",
       "      <td>6</td>\n",
       "      <td>2</td>\n",
       "    </tr>\n",
       "    <tr>\n",
       "      <th>3</th>\n",
       "      <td>1</td>\n",
       "      <td>0</td>\n",
       "      <td>Friday</td>\n",
       "      <td>4</td>\n",
       "      <td>1</td>\n",
       "      <td>25</td>\n",
       "      <td>0</td>\n",
       "      <td>3.913889</td>\n",
       "      <td>2</td>\n",
       "      <td>7</td>\n",
       "      <td>0</td>\n",
       "    </tr>\n",
       "    <tr>\n",
       "      <th>4</th>\n",
       "      <td>4</td>\n",
       "      <td>0</td>\n",
       "      <td>Friday</td>\n",
       "      <td>4</td>\n",
       "      <td>1</td>\n",
       "      <td>25</td>\n",
       "      <td>0</td>\n",
       "      <td>15.422222</td>\n",
       "      <td>1</td>\n",
       "      <td>7</td>\n",
       "      <td>0</td>\n",
       "    </tr>\n",
       "  </tbody>\n",
       "</table>\n",
       "</div>"
      ],
      "text/plain": [
       "   up_votes  over_18 day_of_week  day_of_week_num  month  day  weekend  \\\n",
       "0         3        0      Friday                4      1   25        0   \n",
       "1         2        0      Friday                4      1   25        0   \n",
       "2         3        0      Friday                4      1   25        0   \n",
       "3         1        0      Friday                4      1   25        0   \n",
       "4         4        0      Friday                4      1   25        0   \n",
       "\n",
       "    day_time  author_total_posts  title_length  places  \n",
       "0   3.568333                  50             5       1  \n",
       "1   3.576389                  50             4       1  \n",
       "2   3.700833                  50             6       2  \n",
       "3   3.913889                   2             7       0  \n",
       "4  15.422222                   1             7       0  "
      ]
     },
     "execution_count": 62,
     "metadata": {},
     "output_type": "execute_result"
    }
   ],
   "source": [
    "df.head()"
   ]
  },
  {
   "cell_type": "markdown",
   "metadata": {},
   "source": [
    "### Numeric data analysis"
   ]
  },
  {
   "cell_type": "code",
   "execution_count": 63,
   "metadata": {},
   "outputs": [
    {
     "data": {
      "image/png": "[encoded data removed]",
      "text/plain": [
       "<Figure size 1080x576 with 2 Axes>"
      ]
     },
     "metadata": {},
     "output_type": "display_data"
    }
   ],
   "source": [
    "numericVar = [\"up_votes\",\"over_18\",\"day_of_week_num\",\"day_time\",\"author_total_posts\",\"title_length\",\"places\"]\n",
    "corrmat = df[numericVar].corr() \n",
    "plt.subplots(figsize=(15,8))\n",
    "sns.heatmap(corrmat, annot=True, vmax=1, square=True);\n",
    "\n",
    "#title_length and author_total_post are highly correlated --> 0.37\n",
    "#place and title length are  correlated --> 0.21\n",
    "#Rooms and Bedroom2 are highly correlated --> 0.95\n",
    "#rest of the features have either small negative corrleation  or no systematic corrleation"
   ]
  },
  {
   "cell_type": "markdown",
   "metadata": {},
   "source": [
    "### Categorical Data Analysis"
   ]
  },
  {
   "cell_type": "code",
   "execution_count": 64,
   "metadata": {},
   "outputs": [
    {
     "data": {
      "image/png": "[encoded data removed]",
      "text/plain": [
       "<Figure size 432x288 with 1 Axes>"
      ]
     },
     "metadata": {},
     "output_type": "display_data"
    },
    {
     "name": "stdout",
     "output_type": "stream",
     "text": [
      "Tuesday      84227\n",
      "Wednesday    83160\n",
      "Thursday     80601\n",
      "Monday       79194\n",
      "Friday       74183\n",
      "Sunday       54893\n",
      "Saturday     52978\n",
      "Name: day_of_week, dtype: int64\n",
      "\n",
      "\n"
     ]
    }
   ],
   "source": [
    "#Sunday and saturday have less news item while rest of the days have more or less equal number of news items\n",
    "cat_var = ['day_of_week']\n",
    "for i in cat_var:\n",
    "    sns.countplot(x=i, data=df)\n",
    "    plt.xticks(rotation=90)\n",
    "    plt.show()\n",
    "    print(df[i].value_counts())\n",
    "    print('\\n')"
   ]
  },
  {
   "cell_type": "code",
   "execution_count": 65,
   "metadata": {},
   "outputs": [
    {
     "name": "stdout",
     "output_type": "stream",
     "text": [
      "509236\n"
     ]
    },
    {
     "data": {
      "text/plain": [
       "up_votes              0\n",
       "over_18               0\n",
       "day_of_week           0\n",
       "day_of_week_num       0\n",
       "month                 0\n",
       "day                   0\n",
       "weekend               0\n",
       "day_time              0\n",
       "author_total_posts    0\n",
       "title_length          0\n",
       "places                0\n",
       "dtype: int64"
      ]
     },
     "execution_count": 65,
     "metadata": {},
     "output_type": "execute_result"
    }
   ],
   "source": [
    "# no null value are present now\n",
    "print(len(df))\n",
    "df.isnull().sum()"
   ]
  },
  {
   "cell_type": "markdown",
   "metadata": {},
   "source": [
    "### one hotencoding for the categorical features"
   ]
  },
  {
   "cell_type": "code",
   "execution_count": 66,
   "metadata": {},
   "outputs": [],
   "source": [
    "# get the dumy values against each unique categorical values\n",
    "df_day_week =pd.get_dummies(df, columns = [\"day_of_week\"],prefix=[\"Day_of_week_is\"])\n",
    "\n",
    "\n",
    "df_final = pd.concat([df,df_day_week], axis=1)# joined the dataet with dumy fetaure\n",
    "df_final = df_final.loc[:,~df_final.columns.duplicated()]# duplicate the features\n",
    "df_final = df_final.drop([\"day_of_week\"],axis=1)\n"
   ]
  },
  {
   "cell_type": "markdown",
   "metadata": {},
   "source": [
    "### Dataset statistics after all the preporcessing"
   ]
  },
  {
   "cell_type": "code",
   "execution_count": 67,
   "metadata": {},
   "outputs": [
    {
     "data": {
      "text/html": [
       "<div>\n",
       "<style scoped>\n",
       "    .dataframe tbody tr th:only-of-type {\n",
       "        vertical-align: middle;\n",
       "    }\n",
       "\n",
       "    .dataframe tbody tr th {\n",
       "        vertical-align: top;\n",
       "    }\n",
       "\n",
       "    .dataframe thead th {\n",
       "        text-align: right;\n",
       "    }\n",
       "</style>\n",
       "<table border=\"1\" class=\"dataframe\">\n",
       "  <thead>\n",
       "    <tr style=\"text-align: right;\">\n",
       "      <th></th>\n",
       "      <th>count</th>\n",
       "      <th>mean</th>\n",
       "      <th>std</th>\n",
       "      <th>min</th>\n",
       "      <th>25%</th>\n",
       "      <th>50%</th>\n",
       "      <th>75%</th>\n",
       "      <th>max</th>\n",
       "    </tr>\n",
       "  </thead>\n",
       "  <tbody>\n",
       "    <tr>\n",
       "      <th>up_votes</th>\n",
       "      <td>509236.0</td>\n",
       "      <td>112.236283</td>\n",
       "      <td>541.694675</td>\n",
       "      <td>0.0</td>\n",
       "      <td>1.000000</td>\n",
       "      <td>5.000000</td>\n",
       "      <td>16.000000</td>\n",
       "      <td>21253.000000</td>\n",
       "    </tr>\n",
       "    <tr>\n",
       "      <th>over_18</th>\n",
       "      <td>509236.0</td>\n",
       "      <td>0.000628</td>\n",
       "      <td>0.025060</td>\n",
       "      <td>0.0</td>\n",
       "      <td>0.000000</td>\n",
       "      <td>0.000000</td>\n",
       "      <td>0.000000</td>\n",
       "      <td>1.000000</td>\n",
       "    </tr>\n",
       "    <tr>\n",
       "      <th>day_of_week_num</th>\n",
       "      <td>509236.0</td>\n",
       "      <td>2.716481</td>\n",
       "      <td>1.917323</td>\n",
       "      <td>0.0</td>\n",
       "      <td>1.000000</td>\n",
       "      <td>3.000000</td>\n",
       "      <td>4.000000</td>\n",
       "      <td>6.000000</td>\n",
       "    </tr>\n",
       "    <tr>\n",
       "      <th>month</th>\n",
       "      <td>509236.0</td>\n",
       "      <td>6.457293</td>\n",
       "      <td>3.395653</td>\n",
       "      <td>1.0</td>\n",
       "      <td>3.000000</td>\n",
       "      <td>6.000000</td>\n",
       "      <td>9.000000</td>\n",
       "      <td>12.000000</td>\n",
       "    </tr>\n",
       "    <tr>\n",
       "      <th>day</th>\n",
       "      <td>509236.0</td>\n",
       "      <td>15.748616</td>\n",
       "      <td>8.762334</td>\n",
       "      <td>1.0</td>\n",
       "      <td>8.000000</td>\n",
       "      <td>16.000000</td>\n",
       "      <td>23.000000</td>\n",
       "      <td>31.000000</td>\n",
       "    </tr>\n",
       "    <tr>\n",
       "      <th>weekend</th>\n",
       "      <td>509236.0</td>\n",
       "      <td>0.211829</td>\n",
       "      <td>0.408605</td>\n",
       "      <td>0.0</td>\n",
       "      <td>0.000000</td>\n",
       "      <td>0.000000</td>\n",
       "      <td>0.000000</td>\n",
       "      <td>1.000000</td>\n",
       "    </tr>\n",
       "    <tr>\n",
       "      <th>day_time</th>\n",
       "      <td>509236.0</td>\n",
       "      <td>13.607797</td>\n",
       "      <td>6.127990</td>\n",
       "      <td>0.0</td>\n",
       "      <td>9.405556</td>\n",
       "      <td>14.293472</td>\n",
       "      <td>18.372778</td>\n",
       "      <td>23.999444</td>\n",
       "    </tr>\n",
       "    <tr>\n",
       "      <th>author_total_posts</th>\n",
       "      <td>509236.0</td>\n",
       "      <td>659.805823</td>\n",
       "      <td>1531.105563</td>\n",
       "      <td>1.0</td>\n",
       "      <td>7.000000</td>\n",
       "      <td>62.000000</td>\n",
       "      <td>438.000000</td>\n",
       "      <td>8897.000000</td>\n",
       "    </tr>\n",
       "    <tr>\n",
       "      <th>title_length</th>\n",
       "      <td>509236.0</td>\n",
       "      <td>14.439048</td>\n",
       "      <td>9.881765</td>\n",
       "      <td>1.0</td>\n",
       "      <td>8.000000</td>\n",
       "      <td>11.000000</td>\n",
       "      <td>16.000000</td>\n",
       "      <td>64.000000</td>\n",
       "    </tr>\n",
       "    <tr>\n",
       "      <th>places</th>\n",
       "      <td>509236.0</td>\n",
       "      <td>0.660248</td>\n",
       "      <td>0.783887</td>\n",
       "      <td>0.0</td>\n",
       "      <td>0.000000</td>\n",
       "      <td>1.000000</td>\n",
       "      <td>1.000000</td>\n",
       "      <td>17.000000</td>\n",
       "    </tr>\n",
       "    <tr>\n",
       "      <th>Day_of_week_is_Friday</th>\n",
       "      <td>509236.0</td>\n",
       "      <td>0.145675</td>\n",
       "      <td>0.352781</td>\n",
       "      <td>0.0</td>\n",
       "      <td>0.000000</td>\n",
       "      <td>0.000000</td>\n",
       "      <td>0.000000</td>\n",
       "      <td>1.000000</td>\n",
       "    </tr>\n",
       "    <tr>\n",
       "      <th>Day_of_week_is_Monday</th>\n",
       "      <td>509236.0</td>\n",
       "      <td>0.155515</td>\n",
       "      <td>0.362396</td>\n",
       "      <td>0.0</td>\n",
       "      <td>0.000000</td>\n",
       "      <td>0.000000</td>\n",
       "      <td>0.000000</td>\n",
       "      <td>1.000000</td>\n",
       "    </tr>\n",
       "    <tr>\n",
       "      <th>Day_of_week_is_Saturday</th>\n",
       "      <td>509236.0</td>\n",
       "      <td>0.104034</td>\n",
       "      <td>0.305305</td>\n",
       "      <td>0.0</td>\n",
       "      <td>0.000000</td>\n",
       "      <td>0.000000</td>\n",
       "      <td>0.000000</td>\n",
       "      <td>1.000000</td>\n",
       "    </tr>\n",
       "    <tr>\n",
       "      <th>Day_of_week_is_Sunday</th>\n",
       "      <td>509236.0</td>\n",
       "      <td>0.107795</td>\n",
       "      <td>0.310121</td>\n",
       "      <td>0.0</td>\n",
       "      <td>0.000000</td>\n",
       "      <td>0.000000</td>\n",
       "      <td>0.000000</td>\n",
       "      <td>1.000000</td>\n",
       "    </tr>\n",
       "    <tr>\n",
       "      <th>Day_of_week_is_Thursday</th>\n",
       "      <td>509236.0</td>\n",
       "      <td>0.158278</td>\n",
       "      <td>0.365002</td>\n",
       "      <td>0.0</td>\n",
       "      <td>0.000000</td>\n",
       "      <td>0.000000</td>\n",
       "      <td>0.000000</td>\n",
       "      <td>1.000000</td>\n",
       "    </tr>\n",
       "    <tr>\n",
       "      <th>Day_of_week_is_Tuesday</th>\n",
       "      <td>509236.0</td>\n",
       "      <td>0.165399</td>\n",
       "      <td>0.371540</td>\n",
       "      <td>0.0</td>\n",
       "      <td>0.000000</td>\n",
       "      <td>0.000000</td>\n",
       "      <td>0.000000</td>\n",
       "      <td>1.000000</td>\n",
       "    </tr>\n",
       "    <tr>\n",
       "      <th>Day_of_week_is_Wednesday</th>\n",
       "      <td>509236.0</td>\n",
       "      <td>0.163303</td>\n",
       "      <td>0.369643</td>\n",
       "      <td>0.0</td>\n",
       "      <td>0.000000</td>\n",
       "      <td>0.000000</td>\n",
       "      <td>0.000000</td>\n",
       "      <td>1.000000</td>\n",
       "    </tr>\n",
       "  </tbody>\n",
       "</table>\n",
       "</div>"
      ],
      "text/plain": [
       "                             count        mean          std  min       25%  \\\n",
       "up_votes                  509236.0  112.236283   541.694675  0.0  1.000000   \n",
       "over_18                   509236.0    0.000628     0.025060  0.0  0.000000   \n",
       "day_of_week_num           509236.0    2.716481     1.917323  0.0  1.000000   \n",
       "month                     509236.0    6.457293     3.395653  1.0  3.000000   \n",
       "day                       509236.0   15.748616     8.762334  1.0  8.000000   \n",
       "weekend                   509236.0    0.211829     0.408605  0.0  0.000000   \n",
       "day_time                  509236.0   13.607797     6.127990  0.0  9.405556   \n",
       "author_total_posts        509236.0  659.805823  1531.105563  1.0  7.000000   \n",
       "title_length              509236.0   14.439048     9.881765  1.0  8.000000   \n",
       "places                    509236.0    0.660248     0.783887  0.0  0.000000   \n",
       "Day_of_week_is_Friday     509236.0    0.145675     0.352781  0.0  0.000000   \n",
       "Day_of_week_is_Monday     509236.0    0.155515     0.362396  0.0  0.000000   \n",
       "Day_of_week_is_Saturday   509236.0    0.104034     0.305305  0.0  0.000000   \n",
       "Day_of_week_is_Sunday     509236.0    0.107795     0.310121  0.0  0.000000   \n",
       "Day_of_week_is_Thursday   509236.0    0.158278     0.365002  0.0  0.000000   \n",
       "Day_of_week_is_Tuesday    509236.0    0.165399     0.371540  0.0  0.000000   \n",
       "Day_of_week_is_Wednesday  509236.0    0.163303     0.369643  0.0  0.000000   \n",
       "\n",
       "                                50%         75%           max  \n",
       "up_votes                   5.000000   16.000000  21253.000000  \n",
       "over_18                    0.000000    0.000000      1.000000  \n",
       "day_of_week_num            3.000000    4.000000      6.000000  \n",
       "month                      6.000000    9.000000     12.000000  \n",
       "day                       16.000000   23.000000     31.000000  \n",
       "weekend                    0.000000    0.000000      1.000000  \n",
       "day_time                  14.293472   18.372778     23.999444  \n",
       "author_total_posts        62.000000  438.000000   8897.000000  \n",
       "title_length              11.000000   16.000000     64.000000  \n",
       "places                     1.000000    1.000000     17.000000  \n",
       "Day_of_week_is_Friday      0.000000    0.000000      1.000000  \n",
       "Day_of_week_is_Monday      0.000000    0.000000      1.000000  \n",
       "Day_of_week_is_Saturday    0.000000    0.000000      1.000000  \n",
       "Day_of_week_is_Sunday      0.000000    0.000000      1.000000  \n",
       "Day_of_week_is_Thursday    0.000000    0.000000      1.000000  \n",
       "Day_of_week_is_Tuesday     0.000000    0.000000      1.000000  \n",
       "Day_of_week_is_Wednesday   0.000000    0.000000      1.000000  "
      ]
     },
     "execution_count": 67,
     "metadata": {},
     "output_type": "execute_result"
    }
   ],
   "source": [
    "df_final.describe().T # give data statistics"
   ]
  },
  {
   "cell_type": "code",
   "execution_count": 68,
   "metadata": {},
   "outputs": [],
   "source": [
    "df_test = df_final.dropna()## drop the nan values"
   ]
  },
  {
   "cell_type": "code",
   "execution_count": 69,
   "metadata": {},
   "outputs": [
    {
     "data": {
      "text/html": [
       "<div>\n",
       "<style scoped>\n",
       "    .dataframe tbody tr th:only-of-type {\n",
       "        vertical-align: middle;\n",
       "    }\n",
       "\n",
       "    .dataframe tbody tr th {\n",
       "        vertical-align: top;\n",
       "    }\n",
       "\n",
       "    .dataframe thead th {\n",
       "        text-align: right;\n",
       "    }\n",
       "</style>\n",
       "<table border=\"1\" class=\"dataframe\">\n",
       "  <thead>\n",
       "    <tr style=\"text-align: right;\">\n",
       "      <th></th>\n",
       "      <th>up_votes</th>\n",
       "      <th>over_18</th>\n",
       "      <th>day_of_week_num</th>\n",
       "      <th>month</th>\n",
       "      <th>day</th>\n",
       "      <th>weekend</th>\n",
       "      <th>day_time</th>\n",
       "      <th>author_total_posts</th>\n",
       "      <th>title_length</th>\n",
       "      <th>places</th>\n",
       "      <th>Day_of_week_is_Friday</th>\n",
       "      <th>Day_of_week_is_Monday</th>\n",
       "      <th>Day_of_week_is_Saturday</th>\n",
       "      <th>Day_of_week_is_Sunday</th>\n",
       "      <th>Day_of_week_is_Thursday</th>\n",
       "      <th>Day_of_week_is_Tuesday</th>\n",
       "      <th>Day_of_week_is_Wednesday</th>\n",
       "    </tr>\n",
       "  </thead>\n",
       "  <tbody>\n",
       "    <tr>\n",
       "      <th>0</th>\n",
       "      <td>3</td>\n",
       "      <td>0</td>\n",
       "      <td>4</td>\n",
       "      <td>1</td>\n",
       "      <td>25</td>\n",
       "      <td>0</td>\n",
       "      <td>3.568333</td>\n",
       "      <td>50</td>\n",
       "      <td>5</td>\n",
       "      <td>1</td>\n",
       "      <td>1</td>\n",
       "      <td>0</td>\n",
       "      <td>0</td>\n",
       "      <td>0</td>\n",
       "      <td>0</td>\n",
       "      <td>0</td>\n",
       "      <td>0</td>\n",
       "    </tr>\n",
       "    <tr>\n",
       "      <th>1</th>\n",
       "      <td>2</td>\n",
       "      <td>0</td>\n",
       "      <td>4</td>\n",
       "      <td>1</td>\n",
       "      <td>25</td>\n",
       "      <td>0</td>\n",
       "      <td>3.576389</td>\n",
       "      <td>50</td>\n",
       "      <td>4</td>\n",
       "      <td>1</td>\n",
       "      <td>1</td>\n",
       "      <td>0</td>\n",
       "      <td>0</td>\n",
       "      <td>0</td>\n",
       "      <td>0</td>\n",
       "      <td>0</td>\n",
       "      <td>0</td>\n",
       "    </tr>\n",
       "    <tr>\n",
       "      <th>2</th>\n",
       "      <td>3</td>\n",
       "      <td>0</td>\n",
       "      <td>4</td>\n",
       "      <td>1</td>\n",
       "      <td>25</td>\n",
       "      <td>0</td>\n",
       "      <td>3.700833</td>\n",
       "      <td>50</td>\n",
       "      <td>6</td>\n",
       "      <td>2</td>\n",
       "      <td>1</td>\n",
       "      <td>0</td>\n",
       "      <td>0</td>\n",
       "      <td>0</td>\n",
       "      <td>0</td>\n",
       "      <td>0</td>\n",
       "      <td>0</td>\n",
       "    </tr>\n",
       "    <tr>\n",
       "      <th>3</th>\n",
       "      <td>1</td>\n",
       "      <td>0</td>\n",
       "      <td>4</td>\n",
       "      <td>1</td>\n",
       "      <td>25</td>\n",
       "      <td>0</td>\n",
       "      <td>3.913889</td>\n",
       "      <td>2</td>\n",
       "      <td>7</td>\n",
       "      <td>0</td>\n",
       "      <td>1</td>\n",
       "      <td>0</td>\n",
       "      <td>0</td>\n",
       "      <td>0</td>\n",
       "      <td>0</td>\n",
       "      <td>0</td>\n",
       "      <td>0</td>\n",
       "    </tr>\n",
       "    <tr>\n",
       "      <th>4</th>\n",
       "      <td>4</td>\n",
       "      <td>0</td>\n",
       "      <td>4</td>\n",
       "      <td>1</td>\n",
       "      <td>25</td>\n",
       "      <td>0</td>\n",
       "      <td>15.422222</td>\n",
       "      <td>1</td>\n",
       "      <td>7</td>\n",
       "      <td>0</td>\n",
       "      <td>1</td>\n",
       "      <td>0</td>\n",
       "      <td>0</td>\n",
       "      <td>0</td>\n",
       "      <td>0</td>\n",
       "      <td>0</td>\n",
       "      <td>0</td>\n",
       "    </tr>\n",
       "  </tbody>\n",
       "</table>\n",
       "</div>"
      ],
      "text/plain": [
       "   up_votes  over_18  day_of_week_num  month  day  weekend   day_time  \\\n",
       "0         3        0                4      1   25        0   3.568333   \n",
       "1         2        0                4      1   25        0   3.576389   \n",
       "2         3        0                4      1   25        0   3.700833   \n",
       "3         1        0                4      1   25        0   3.913889   \n",
       "4         4        0                4      1   25        0  15.422222   \n",
       "\n",
       "   author_total_posts  title_length  places  Day_of_week_is_Friday  \\\n",
       "0                  50             5       1                      1   \n",
       "1                  50             4       1                      1   \n",
       "2                  50             6       2                      1   \n",
       "3                   2             7       0                      1   \n",
       "4                   1             7       0                      1   \n",
       "\n",
       "   Day_of_week_is_Monday  Day_of_week_is_Saturday  Day_of_week_is_Sunday  \\\n",
       "0                      0                        0                      0   \n",
       "1                      0                        0                      0   \n",
       "2                      0                        0                      0   \n",
       "3                      0                        0                      0   \n",
       "4                      0                        0                      0   \n",
       "\n",
       "   Day_of_week_is_Thursday  Day_of_week_is_Tuesday  Day_of_week_is_Wednesday  \n",
       "0                        0                       0                         0  \n",
       "1                        0                       0                         0  \n",
       "2                        0                       0                         0  \n",
       "3                        0                       0                         0  \n",
       "4                        0                       0                         0  "
      ]
     },
     "execution_count": 69,
     "metadata": {},
     "output_type": "execute_result"
    }
   ],
   "source": [
    "df_test.head()"
   ]
  },
  {
   "cell_type": "code",
   "execution_count": 70,
   "metadata": {},
   "outputs": [
    {
     "name": "stdout",
     "output_type": "stream",
     "text": [
      "<class 'pandas.core.frame.DataFrame'>\n",
      "Int64Index: 509236 entries, 0 to 509235\n",
      "Data columns (total 17 columns):\n",
      " #   Column                    Non-Null Count   Dtype  \n",
      "---  ------                    --------------   -----  \n",
      " 0   up_votes                  509236 non-null  int64  \n",
      " 1   over_18                   509236 non-null  int64  \n",
      " 2   day_of_week_num           509236 non-null  int64  \n",
      " 3   month                     509236 non-null  int64  \n",
      " 4   day                       509236 non-null  int64  \n",
      " 5   weekend                   509236 non-null  int64  \n",
      " 6   day_time                  509236 non-null  float64\n",
      " 7   author_total_posts        509236 non-null  int64  \n",
      " 8   title_length              509236 non-null  int64  \n",
      " 9   places                    509236 non-null  int64  \n",
      " 10  Day_of_week_is_Friday     509236 non-null  uint8  \n",
      " 11  Day_of_week_is_Monday     509236 non-null  uint8  \n",
      " 12  Day_of_week_is_Saturday   509236 non-null  uint8  \n",
      " 13  Day_of_week_is_Sunday     509236 non-null  uint8  \n",
      " 14  Day_of_week_is_Thursday   509236 non-null  uint8  \n",
      " 15  Day_of_week_is_Tuesday    509236 non-null  uint8  \n",
      " 16  Day_of_week_is_Wednesday  509236 non-null  uint8  \n",
      "dtypes: float64(1), int64(9), uint8(7)\n",
      "memory usage: 46.1 MB\n"
     ]
    }
   ],
   "source": [
    "df_test.info()"
   ]
  },
  {
   "cell_type": "markdown",
   "metadata": {},
   "source": [
    "### Sampling and splitting the dataset into training and testing set with 75% and 25% respectively"
   ]
  },
  {
   "cell_type": "code",
   "execution_count": 82,
   "metadata": {},
   "outputs": [],
   "source": [
    "df_test = df_test.sample(frac=1).reset_index(drop=True)\n",
    "y= df_test[\"up_votes\"]\n",
    "X= df_test.drop([\"up_votes\"],axis=1)\n",
    "\n",
    "X_train,X_test,y_train,y_test = train_test_split(X,y,test_size = 0.25) #75% for training , 25% for testing\n"
   ]
  },
  {
   "cell_type": "markdown",
   "metadata": {},
   "source": [
    "## Principal Component Regression (PCR)"
   ]
  },
  {
   "cell_type": "code",
   "execution_count": 83,
   "metadata": {},
   "outputs": [
    {
     "data": {
      "text/plain": [
       "array([18.12, 27.45, 36.28, 43.75, 51.19, 58.57, 65.59, 71.94, 78.19,\n",
       "       84.42, 90.56, 96.19, 99.99, 99.99, 99.99, 99.99])"
      ]
     },
     "execution_count": 83,
     "metadata": {},
     "output_type": "execute_result"
    }
   ],
   "source": [
    "pca = PCA() \n",
    "X_reduced_train = pca.fit_transform(scale(X_train)) #PCA is applied to reduce the dimension of X_train\n",
    "np.cumsum (np.round(pca.explained_variance_ratio_,decimals = 4)*100)\n",
    "#PCA is a dimension reduction method, PCR is the version of PCA for regression tasks.\n",
    "#The following array indicates the components and the explained variance when we use that particular component.\n",
    "#For instance, if we use 10 components, we can explain the variance of dataset in 42.48 percent.\n"
   ]
  },
  {
   "cell_type": "markdown",
   "metadata": {},
   "source": [
    "## Linear regression traning and testing"
   ]
  },
  {
   "cell_type": "code",
   "execution_count": 84,
   "metadata": {},
   "outputs": [],
   "source": [
    "lm = LinearRegression() #Creating linear regression model\n",
    "pcr_model = lm.fit(X_reduced_train,y_train)\n",
    "y_pred3 = pcr_model.predict(X_reduced_train)\n"
   ]
  },
  {
   "cell_type": "markdown",
   "metadata": {},
   "source": [
    "## Scaling of data using PCA"
   ]
  },
  {
   "cell_type": "code",
   "execution_count": 85,
   "metadata": {},
   "outputs": [],
   "source": [
    "pca2 = PCA()\n",
    "X_reduced_test = pca2.fit_transform(scale(X_test))\n",
    "y_pred_test = pcr_model.predict(X_reduced_test)\n"
   ]
  },
  {
   "cell_type": "markdown",
   "metadata": {},
   "source": [
    "### Principal Component Regression error calculation"
   ]
  },
  {
   "cell_type": "code",
   "execution_count": 86,
   "metadata": {},
   "outputs": [],
   "source": [
    "mse_test = mean_squared_error(y_train,y_pred3) # mean sequre error\n",
    "r2_test = r2_score(y_train,y_pred3) # R2 error\n",
    "rmse_test = np.sqrt(mean_squared_error(y_test,y_pred_test))# root mean sequre error on test set\n",
    "rmse_train =np.sqrt(mean_squared_error(y_train,y_pred3)) # root mean sequre error on training set"
   ]
  },
  {
   "cell_type": "code",
   "execution_count": 87,
   "metadata": {},
   "outputs": [
    {
     "name": "stdout",
     "output_type": "stream",
     "text": [
      "MSE for Test Set of PCR Model:  290975.841687258\n",
      "R2 Score for Test Set of PCR Model:  0.0112139849801276\n",
      "RMSE for Test Set of PCR Model:  5.3667182389670485\n",
      "RMSE for Train Set of PCR Model:  5.394217660488478\n"
     ]
    }
   ],
   "source": [
    "print(\"MSE for Test Set of PCR Model: \",mse_test)\n",
    "print(\"R2 Score for Test Set of PCR Model: \",r2_test)\n",
    "print(\"RMSE for Test Set of PCR Model: \",(rmse_test)/100) # test errro as percentage\n",
    "print(\"RMSE for Train Set of PCR Model: \",(rmse_train)/100) # training error as percentage"
   ]
  },
  {
   "cell_type": "markdown",
   "metadata": {},
   "source": [
    "## cross fold validation for Linear Regression"
   ]
  },
  {
   "cell_type": "code",
   "execution_count": 77,
   "metadata": {},
   "outputs": [],
   "source": [
    "cv_5 = model_selection.KFold(n_splits=5,shuffle=True,random_state=1) #5 Fold cross validation for Linear Regression \n",
    "lm2 = LinearRegression()\n",
    "RMSE = []\n"
   ]
  },
  {
   "cell_type": "markdown",
   "metadata": {},
   "source": [
    "## Error calculation for Cross-Fold  validation of Linear Regression"
   ]
  },
  {
   "cell_type": "code",
   "execution_count": 78,
   "metadata": {},
   "outputs": [],
   "source": [
    "for i in np.arange(1, X_reduced_train.shape[1] + 1):    \n",
    "    score = np.sqrt(-1*model_selection.cross_val_score(lm, X_reduced_train[:,:i],y_train.ravel(), \n",
    "                                                       cv=cv_5,scoring='neg_mean_squared_error').mean())\n",
    "    RMSE.append(score)\n"
   ]
  },
  {
   "cell_type": "markdown",
   "metadata": {},
   "source": [
    "## Loss graph"
   ]
  },
  {
   "cell_type": "code",
   "execution_count": 79,
   "metadata": {},
   "outputs": [
    {
     "data": {
      "image/png": "[encoded data removed]",
      "text/plain": [
       "<Figure size 432x288 with 1 Axes>"
      ]
     },
     "metadata": {},
     "output_type": "display_data"
    }
   ],
   "source": [
    "# error in absolte terms which is around 5.5 %\n",
    "plt.plot(RMSE, '-*')\n",
    "plt.xlabel('# of Components')\n",
    "plt.ylabel('RMSE')\n",
    "plt.title('Up voting prediction');"
   ]
  },
  {
   "cell_type": "markdown",
   "metadata": {},
   "source": [
    "## Random Forest Regressor"
   ]
  },
  {
   "cell_type": "code",
   "execution_count": 80,
   "metadata": {},
   "outputs": [],
   "source": [
    "rf_model = RandomForestRegressor(random_state=42)\n",
    "rf_model.fit(X_train,y_train)\n",
    "y_pred_rf = rf_model.predict(X_test)\n"
   ]
  },
  {
   "cell_type": "markdown",
   "metadata": {},
   "source": [
    "### Error calculation for Random Forest Regressor on the test set"
   ]
  },
  {
   "cell_type": "code",
   "execution_count": 81,
   "metadata": {},
   "outputs": [
    {
     "name": "stdout",
     "output_type": "stream",
     "text": [
      "R2 Score for Train Set of Random Forest Model:  -0.00045400418631587726\n",
      "RMSE for Train Set of Random Forest Model:  5.550210451680812\n"
     ]
    }
   ],
   "source": [
    "r2_train_rf = r2_score(y_test,y_pred_rf) # R2 score  on test set\n",
    "rmse_train_rf =np.sqrt(mean_squared_error(y_test,y_pred_rf))\n",
    "print(\"R2 Score for Train Set of Random Forest Model: \",(r2_train_rf)/100) # root mean sequre error on test set as percentage\n",
    "print(\"RMSE for Train Set of Random Forest Model: \",(rmse_train_rf)/100) # root mean sequre error on test set as percentage\n",
    "\n",
    "#R2 Score for Random Forest  is -0.04"
   ]
  }
 ],
 "metadata": {
  "kernelspec": {
   "display_name": "Python 3",
   "language": "python",
   "name": "python3"
  },
  "language_info": {
   "codemirror_mode": {
    "name": "ipython",
    "version": 3
   },
   "file_extension": ".py",
   "mimetype": "text/x-python",
   "name": "python",
   "nbconvert_exporter": "python",
   "pygments_lexer": "ipython3",
   "version": "3.8.5"
  }
 },
 "nbformat": 4,
 "nbformat_minor": 4
}
